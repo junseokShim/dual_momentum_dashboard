{
 "cells": [
  {
   "cell_type": "code",
   "execution_count": 10,
   "id": "6ce20eb4",
   "metadata": {},
   "outputs": [],
   "source": [
    "import plotly.graph_objects as go # to make a graph\n",
    "import numpy as np # to generate test data"
   ]
  },
  {
   "cell_type": "code",
   "execution_count": 13,
   "id": "9cebb12c",
   "metadata": {},
   "outputs": [
    {
     "data": {
      "application/vnd.jupyter.widget-view+json": {
       "model_id": "bb3efa6c5c8144e9bc274d00e7163c2f",
       "version_major": 2,
       "version_minor": 0
      },
      "text/plain": [
       "A Jupyter Widget"
      ]
     },
     "metadata": {},
     "output_type": "display_data"
    }
   ],
   "source": [
    "fig = go.FigureWidget()\n",
    "fig "
   ]
  },
  {
   "cell_type": "code",
   "execution_count": 15,
   "id": "fee8f0e9",
   "metadata": {},
   "outputs": [],
   "source": [
    "N = 100 # data size\n",
    "x = np.linspace(0, 20, N)\n",
    "y = np.random.rand(N)"
   ]
  },
  {
   "cell_type": "code",
   "execution_count": 16,
   "id": "27f1fdf3",
   "metadata": {},
   "outputs": [],
   "source": [
    "fig.add_scatter(x=x, y=y);"
   ]
  },
  {
   "cell_type": "code",
   "execution_count": 18,
   "id": "772fa3df",
   "metadata": {},
   "outputs": [],
   "source": [
    "# to update the plot, take the correct reference by fig.data[i] where i is the order which you added the plot\n",
    "# in this example, let's modefiy the first scatter plot (fig.data[0])\n",
    "\n",
    "# getting reference from the graph\n",
    "first_scatter_plot = fig.data[0] \n",
    "\n",
    "# assine new random values. as soon as this code is excuted, the graph above will be updated. \n",
    "first_scatter_plot.y = np.random.rand(N) "
   ]
  },
  {
   "cell_type": "code",
   "execution_count": 19,
   "id": "1fb2faae",
   "metadata": {},
   "outputs": [
    {
     "name": "stderr",
     "output_type": "stream",
     "text": [
      "IOPub message rate exceeded.\n",
      "The notebook server will temporarily stop sending output\n",
      "to the client in order to avoid crashing it.\n",
      "To change this limit, set the config variable\n",
      "`--NotebookApp.iopub_msg_rate_limit`.\n",
      "\n",
      "Current values:\n",
      "NotebookApp.iopub_msg_rate_limit=1000.0 (msgs/sec)\n",
      "NotebookApp.rate_limit_window=3.0 (secs)\n",
      "\n"
     ]
    }
   ],
   "source": [
    "# let's update both title and the y data at the same time\n",
    "FRAME = 1000 # how many times which update the graph\n",
    "first_scatter_plot = fig.data[0] # getting reference from the graph\n",
    "\n",
    "for i in range(FRAME):\n",
    "    first_scatter_plot.y = np.random.rand(N) # updating y data\n",
    "    fig.update_layout(title=f'FRAME: {i + 1}');"
   ]
  },
  {
   "cell_type": "code",
   "execution_count": null,
   "id": "ef67656f",
   "metadata": {},
   "outputs": [],
   "source": []
  }
 ],
 "metadata": {
  "kernelspec": {
   "display_name": "Python 3 (ipykernel)",
   "language": "python",
   "name": "python3"
  },
  "language_info": {
   "codemirror_mode": {
    "name": "ipython",
    "version": 3
   },
   "file_extension": ".py",
   "mimetype": "text/x-python",
   "name": "python",
   "nbconvert_exporter": "python",
   "pygments_lexer": "ipython3",
   "version": "3.8.9"
  }
 },
 "nbformat": 4,
 "nbformat_minor": 5
}
